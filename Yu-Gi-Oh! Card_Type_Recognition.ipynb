{
 "cells": [
  {
   "cell_type": "code",
   "execution_count": null,
   "metadata": {},
   "outputs": [],
   "source": [
    "import math\n",
    "import numpy as np\n",
    "import matplotlib.pyplot as plt\n",
    "from PIL import Image\n",
    "from keras.models import Sequential\n",
    "from keras.layers import Dense, Flatten, Conv2D, MaxPool2D, Conv3D, MaxPool3D\n",
    "from keras.optimizers import Adam,SGD\n",
    "from keras.applications.resnet50 import preprocess_input\n",
    "from keras.preprocessing.image import ImageDataGenerator\n",
    "from sklearn.model_selection import train_test_split\n",
    "\n",
    "%matplotlib inline\n",
    "train_path = './data/Train/'\n",
    "test_path = './data/Test/'\n",
    "img_size = 45\n",
    "batch_size = 32\n",
    "#177x254\n",
    "\n",
    "train_datagen = ImageDataGenerator(rescale = 1. /255, preprocessing_function=preprocess_input)\n",
    "test_datagen = ImageDataGenerator(rescale = 1. /255, preprocessing_function=preprocess_input)\n",
    "\n",
    "train_generator = train_datagen.flow_from_directory(train_path, target_size=(177, 254), batch_size=32)\n",
    "train_generator.class_indices\n",
    "\n",
    "test_generator = test_datagen.flow_from_directory(test_path, target_size=(177, 254), batch_size=32)\n",
    "test_generator.class_indices"
   ]
  },
  {
   "cell_type": "code",
   "execution_count": null,
   "metadata": {},
   "outputs": [],
   "source": [
    "n_batch = math.ceil(train_generator.samples / batch_size)\n",
    "n_batch"
   ]
  },
  {
   "cell_type": "code",
   "execution_count": null,
   "metadata": {},
   "outputs": [],
   "source": [
    "random_img = np.random.choice(train_generator.filenames)\n",
    "img = Image.open(train_path + random_img)\n",
    "print(train_path+random_img)\n",
    "print(img.size)\n",
    "img"
   ]
  },
  {
   "cell_type": "code",
   "execution_count": null,
   "metadata": {},
   "outputs": [],
   "source": [
    "batch_x, batch_y = train_generator.next()\n",
    "batch_x.shape, batch_y.shape"
   ]
  },
  {
   "cell_type": "code",
   "execution_count": null,
   "metadata": {},
   "outputs": [],
   "source": [
    "from keras.layers import BatchNormalization, Dropout\n",
    "\n",
    "ygo_model = Sequential()\n",
    "\n",
    "ygo_model.add(Conv2D(10,(5,5), padding = \"same\", activation='sigmoid', input_shape=(177,254,3)))\n",
    "ygo_model.add(BatchNormalization())\n",
    "ygo_model.add(MaxPool2D())\n",
    "\n",
    "ygo_model.add(Dropout(0.3))\n",
    "ygo_model.add(Conv2D(8,(8,8), padding=\"same\", activation='relu'))\n",
    "ygo_model.add(MaxPool2D())\n",
    "ygo_model.add(BatchNormalization())\n",
    "\n",
    "ygo_model.add(Flatten())\n",
    "ygo_model.add(Dropout(0.2))\n",
    "ygo_model.add(Dense(10, activation='softmax'))\n",
    "\n",
    "ygo_model.compile(loss='categorical_crossentropy',\n",
    "                      optimizer=Adam(1e-5),\n",
    "                      metrics=['accuracy'])\n",
    "ygo_model.summary()"
   ]
  },
  {
   "cell_type": "code",
   "execution_count": null,
   "metadata": {},
   "outputs": [],
   "source": [
    "log = ygo_model.fit_generator(train_generator, steps_per_epoch=n_batch, epochs = 50, validation_data = test_generator, validation_steps = len(test_generator))"
   ]
  },
  {
   "cell_type": "code",
   "execution_count": null,
   "metadata": {},
   "outputs": [],
   "source": [
    "#from jupyterthemes import jtplot\n",
    "#jtplot.style(spines=False,grid=True)\n",
    "\n",
    "plt.plot(log.history['val_loss'], label='validation_set',color='#51c44f')\n",
    "plt.plot(log.history['loss'], label='train_set',color='#4e5ac7')\n",
    "plt.legend()"
   ]
  },
  {
   "cell_type": "code",
   "execution_count": null,
   "metadata": {},
   "outputs": [],
   "source": [
    "lbl_dict = {k:i for i,k in train_generator.class_indices.items()}\n",
    "lbl_dict"
   ]
  },
  {
   "cell_type": "code",
   "execution_count": null,
   "metadata": {},
   "outputs": [],
   "source": [
    "def get_class(path):\n",
    "    img = Image.open(path).convert('RGB')\n",
    "    imgn = img.resize((254,177))\n",
    "    plt.imshow(img)\n",
    "    plt.axis('off')\n",
    "    x = np.asarray(imgn, np.float32)[None]\n",
    "    x = preprocess_input(x)\n",
    "    y = ygo_model.predict(x)\n",
    "    \n",
    "    preds = lbl_dict[np.argmax(y)]\n",
    "    return preds"
   ]
  },
  {
   "cell_type": "code",
   "execution_count": null,
   "metadata": {},
   "outputs": [],
   "source": [
    "random_path = './data/Test/' + np.random.choice(test_generator.filenames)\n",
    "print(random_path)\n",
    "get_class(random_path)"
   ]
  },
  {
   "cell_type": "code",
   "execution_count": null,
   "metadata": {},
   "outputs": [],
   "source": [
    "from keras.models import Model\n",
    "from keras.preprocessing import image\n",
    "\n",
    "layer_outputs = [layer.output for layer in ygo_model.layers[:100]]\n",
    "activation_model = Model(inputs=ygo_model.input, outputs=layer_outputs)\n",
    "test_image = random_path\n",
    "img = image.load_img(test_image, target_size=(177, 254))\n",
    "img_arr = image.img_to_array(img)\n",
    "img_arr = np.expand_dims(img_arr, axis=0)\n",
    "img_arr /= 255."
   ]
  },
  {
   "cell_type": "code",
   "execution_count": null,
   "metadata": {},
   "outputs": [],
   "source": [
    "#jtplot.style(spines=False,grid=False)\n",
    "\n",
    "activations = activation_model.predict(img_arr)\n",
    "activations[1].shape"
   ]
  },
  {
   "cell_type": "code",
   "execution_count": null,
   "metadata": {},
   "outputs": [],
   "source": [
    "plt.matshow(activations[0][0, :, :, 1], cmap='seismic')\n",
    "plt.show()"
   ]
  },
  {
   "cell_type": "code",
   "execution_count": null,
   "metadata": {},
   "outputs": [],
   "source": [
    "plt.matshow(activations[1][0, :, :, 1], cmap='seismic')\n",
    "plt.show()"
   ]
  },
  {
   "cell_type": "code",
   "execution_count": null,
   "metadata": {},
   "outputs": [],
   "source": [
    "plt.matshow(activations[2][0, :, :, 1], cmap='seismic')\n",
    "plt.show()"
   ]
  },
  {
   "cell_type": "code",
   "execution_count": null,
   "metadata": {},
   "outputs": [],
   "source": [
    "plt.matshow(activations[3][0, :, :, 1], cmap='seismic')\n",
    "plt.show()"
   ]
  },
  {
   "cell_type": "code",
   "execution_count": null,
   "metadata": {},
   "outputs": [],
   "source": [
    "plt.matshow(activations[4][0, :, :, 2], cmap='seismic')\n",
    "plt.show()"
   ]
  },
  {
   "cell_type": "code",
   "execution_count": null,
   "metadata": {},
   "outputs": [],
   "source": [
    "plt.matshow(activations[5][0, :, :, 2], cmap='seismic')\n",
    "plt.show()"
   ]
  },
  {
   "cell_type": "code",
   "execution_count": null,
   "metadata": {},
   "outputs": [],
   "source": [
    "plt.matshow(activations[6][0, :, :, 2], cmap='seismic')\n",
    "plt.show()"
   ]
  },
  {
   "cell_type": "code",
   "execution_count": null,
   "metadata": {},
   "outputs": [],
   "source": [
    "import keras.backend as K\n",
    "kernels = ygo_model.layers[4].kernel\n",
    "kernels = K.eval(kernels)\n",
    "kernels.shape"
   ]
  },
  {
   "cell_type": "code",
   "execution_count": null,
   "metadata": {},
   "outputs": [],
   "source": [
    "kernels = kernels[:,:,0,:]\n",
    "kernels.shape"
   ]
  },
  {
   "cell_type": "code",
   "execution_count": null,
   "metadata": {},
   "outputs": [],
   "source": [
    "fig, axes = plt.subplots(1, kernels.shape[2], figsize=(16,4))\n",
    "for i in range(kernels.shape[2]):\n",
    "    axes[i].imshow(kernels[:,:,i], 'gray')\n",
    "    axes[i].axis('off')"
   ]
  }
 ],
 "metadata": {
  "kernelspec": {
   "display_name": "Python 3",
   "language": "python",
   "name": "python3"
  },
  "language_info": {
   "codemirror_mode": {
    "name": "ipython",
    "version": 3
   },
   "file_extension": ".py",
   "mimetype": "text/x-python",
   "name": "python",
   "nbconvert_exporter": "python",
   "pygments_lexer": "ipython3",
   "version": "3.7.3"
  },
  "latex_envs": {
   "LaTeX_envs_menu_present": true,
   "autoclose": true,
   "autocomplete": true,
   "bibliofile": "biblio.bib",
   "cite_by": "apalike",
   "current_citInitial": 1,
   "eqLabelWithNumbers": true,
   "eqNumInitial": 1,
   "hotkeys": {
    "equation": "Ctrl-E",
    "itemize": "Ctrl-I"
   },
   "labels_anchors": false,
   "latex_user_defs": false,
   "report_style_numbering": false,
   "user_envs_cfg": false
  }
 },
 "nbformat": 4,
 "nbformat_minor": 2
}
